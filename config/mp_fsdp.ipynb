{
 "cells": [
  {
   "cell_type": "code",
   "execution_count": 4,
   "metadata": {},
   "outputs": [
    {
     "data": {
      "text/plain": [
       "'1.13.0.dev20220711+cu113'"
      ]
     },
     "execution_count": 4,
     "metadata": {},
     "output_type": "execute_result"
    }
   ],
   "source": [
    "import torch\n",
    "torch.__version__"
   ]
  },
  {
   "cell_type": "markdown",
   "metadata": {},
   "source": [
    "FSDP Mixed Precision supports BFloat16 and FP16 with fine grained policies that control paramaters, gradient communications and buffers"
   ]
  },
  {
   "cell_type": "code",
   "execution_count": 5,
   "metadata": {},
   "outputs": [],
   "source": [
    "# import Mixed Precision class along with FSDP import:\n",
    "\n",
    "from torch.distributed.fsdp import (\n",
    "    FullyShardedDataParallel as FSDP,\n",
    "    MixedPrecision,\n",
    ")"
   ]
  },
  {
   "cell_type": "code",
   "execution_count": 6,
   "metadata": {},
   "outputs": [],
   "source": [
    "# create a policy - one for Bfloat16 is shown:\n",
    "bfSixteen = MixedPrecision(\n",
    "        # Param precision\n",
    "        param_dtype=torch.bfloat16,\n",
    "        # Gradient communication precision.\n",
    "        reduce_dtype=torch.bfloat16,\n",
    "        # Buffer precision.\n",
    "        buffer_dtype=torch.bfloat16,\n",
    "    )\n",
    "\n",
    "# you can mix types:\n",
    "comboPolicy = MixedPrecision(\n",
    "        # Param precision\n",
    "        param_dtype=torch.bfloat16,\n",
    "        # Gradient communication precision.\n",
    "        reduce_dtype=torch.float32,\n",
    "        # Buffer precision.\n",
    "        buffer_dtype=torch.float32,\n",
    "    )\n"
   ]
  },
  {
   "cell_type": "code",
   "execution_count": 7,
   "metadata": {},
   "outputs": [],
   "source": [
    "# Details:\n",
    "\n",
    "# 1 - BatchNorm is automatically kept in fp32 for precision (overrides buffer policy, no user action needed)\n",
    "# 2 - Local gradients during backprop are also always fp32 (automatic, no user action needed)\n",
    "# 3 - Models are always saved in fp32 format for max portability"
   ]
  },
  {
   "cell_type": "code",
   "execution_count": 11,
   "metadata": {},
   "outputs": [],
   "source": [
    "# bfloat16 support verification imports (network and gpu native support)\n",
    "from pkg_resources import packaging\n",
    "import torch.cuda.nccl as nccl\n",
    "import torch.distributed as dist"
   ]
  },
  {
   "cell_type": "code",
   "execution_count": 10,
   "metadata": {},
   "outputs": [
    {
     "name": "stderr",
     "output_type": "stream",
     "text": [
      "/tmp/ipykernel_47326/1767850211.py:4: DeprecationWarning: distutils Version classes are deprecated. Use packaging.version instead.\n",
      "  and LooseVersion(torch.version.cuda) >= \"11.0\"\n"
     ]
    }
   ],
   "source": [
    "bf16_ready = (\n",
    "    torch.version.cuda\n",
    "    and torch.cuda.is_bf16_supported()\n",
    "    and packaging.version.parse(torch.version.cuda).release >= (11, 0):\n",
    "    and dist.is_nccl_available()\n",
    "    and nccl.version() >= (2, 10)\n",
    ")"
   ]
  },
  {
   "cell_type": "code",
   "execution_count": null,
   "metadata": {},
   "outputs": [],
   "source": []
  }
 ],
 "metadata": {
  "kernelspec": {
   "display_name": "Python 3.9.13 ('pytorch_p39')",
   "language": "python",
   "name": "python3"
  },
  "language_info": {
   "codemirror_mode": {
    "name": "ipython",
    "version": 3
   },
   "file_extension": ".py",
   "mimetype": "text/x-python",
   "name": "python",
   "nbconvert_exporter": "python",
   "pygments_lexer": "ipython3",
   "version": "3.9.13"
  },
  "orig_nbformat": 4,
  "vscode": {
   "interpreter": {
    "hash": "eb71ac050f92a5d5e3cdea462f22e174d379ee0836c3076b1e7df4a375a19e34"
   }
  }
 },
 "nbformat": 4,
 "nbformat_minor": 2
}
